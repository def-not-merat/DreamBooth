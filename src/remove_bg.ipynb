{
 "cells": [
  {
   "cell_type": "code",
   "execution_count": null,
   "id": "368468b7",
   "metadata": {},
   "outputs": [],
   "source": [
    "from PIL import Image, ImageOps\n",
    "from rembg import remove\n",
    "import os\n",
    "\n",
    "# get pictures from ./db/SOMETHING_db/, remove the background and save at ./db/SOMETHING_rembg_db/\n",
    "\n",
    "name = \"misha\"\n",
    "rem_folder = f\"./db/{name}_rembg_db\"\n",
    "if not os.path.exists(rem_folder):\n",
    "    os.makedirs(rem_folder)\n",
    "\n",
    "for label in os.listdir(f\"./db/{name}_db/\"):\n",
    "    image = Image.open(f\"./db/{name}_db/{label}\")\n",
    "    image = ImageOps.exif_transpose(image)\n",
    "    output = remove(image, bgcolor=(0,0,0))\n",
    "    output = output.convert(\"RGB\")\n",
    "    output.save(f\"{rem_folder}/{label}\")"
   ]
  }
 ],
 "metadata": {
  "kernelspec": {
   "display_name": "dbooth_env",
   "language": "python",
   "name": "python3"
  },
  "language_info": {
   "name": "python",
   "version": "3.11.11"
  }
 },
 "nbformat": 4,
 "nbformat_minor": 5
}
